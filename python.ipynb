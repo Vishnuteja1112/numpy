{
 "cells": [
  {
   "cell_type": "code",
   "execution_count": 2,
   "id": "3ba3cef3",
   "metadata": {},
   "outputs": [
    {
     "name": "stdout",
     "output_type": "stream",
     "text": [
      "[ 2  3  5  7 11]\n"
     ]
    }
   ],
   "source": [
    "import numpy as np\n",
    "prime_array=np.array([2,3,5,7,11])\n",
    "print(prime_array)"
   ]
  },
  {
   "cell_type": "code",
   "execution_count": 3,
   "id": "cff139ae",
   "metadata": {},
   "outputs": [
    {
     "data": {
      "text/plain": [
       "array([1, 2, 3])"
      ]
     },
     "execution_count": 3,
     "metadata": {},
     "output_type": "execute_result"
    }
   ],
   "source": [
    "np.array([1,2,3])"
   ]
  },
  {
   "cell_type": "code",
   "execution_count": 6,
   "id": "2599db1c",
   "metadata": {},
   "outputs": [
    {
     "data": {
      "text/plain": [
       "array([[1, 2, 3],\n",
       "       [3, 4, 5]])"
      ]
     },
     "execution_count": 6,
     "metadata": {},
     "output_type": "execute_result"
    }
   ],
   "source": [
    "np.array([[1,2,3],[3,4,5]])"
   ]
  },
  {
   "cell_type": "code",
   "execution_count": 11,
   "id": "7e1ccaff",
   "metadata": {},
   "outputs": [
    {
     "data": {
      "text/plain": [
       "array([[[ 1,  2,  3],\n",
       "        [ 3,  4,  5]],\n",
       "\n",
       "       [[ 6,  7,  8],\n",
       "        [ 9, 10, 11]]])"
      ]
     },
     "execution_count": 11,
     "metadata": {},
     "output_type": "execute_result"
    }
   ],
   "source": [
    "np.array([[[1,2,3],[3,4,5]],[[6,7,8],[9,10,11]]])"
   ]
  },
  {
   "cell_type": "code",
   "execution_count": 40,
   "id": "beb68a7c",
   "metadata": {},
   "outputs": [],
   "source": [
    "matrix = np.random.randint(0, 2, (50, 50), dtype=np.uint8)"
   ]
  },
  {
   "cell_type": "code",
   "execution_count": 18,
   "id": "56db225b",
   "metadata": {},
   "outputs": [
    {
     "name": "stdout",
     "output_type": "stream",
     "text": [
      "(2, 4)\n"
     ]
    }
   ],
   "source": [
    "arr=np.array([[1,2,3,5],[4,5,6,9]])\n",
    "print(arr.shape)"
   ]
  },
  {
   "cell_type": "code",
   "execution_count": 21,
   "id": "4cf2cc42",
   "metadata": {},
   "outputs": [
    {
     "name": "stdout",
     "output_type": "stream",
     "text": [
      "Dimensionsof'array_of_integers'=* 1\n"
     ]
    }
   ],
   "source": [
    "array_of_integers=np.array([0,1,2,3,4,5,6,7,8,9])\n",
    "print(\"Dimensionsof'array_of_integers'=*\",array_of_integers.ndim)"
   ]
  },
  {
   "cell_type": "code",
   "execution_count": 22,
   "id": "c92e671d",
   "metadata": {},
   "outputs": [
    {
     "name": "stdout",
     "output_type": "stream",
     "text": [
      "Dimensions of an 'sample_2d_array'=* 2\n"
     ]
    }
   ],
   "source": [
    "sample_2d_array=np.array([[1,2,3],[4,5,6]])\n",
    "print(\"Dimensions of an 'sample_2d_array'=*\",sample_2d_array.ndim)"
   ]
  },
  {
   "cell_type": "code",
   "execution_count": 32,
   "id": "edd48199",
   "metadata": {},
   "outputs": [
    {
     "name": "stdout",
     "output_type": "stream",
     "text": [
      "The total elements'array_of_int'= {10}\n"
     ]
    }
   ],
   "source": [
    "array_of_int=np.array([0,1,2,3,4,5,6,7,8,9])\n",
    "print(f\"The total elements'array_of_int'=\",{array_of_int.size})"
   ]
  },
  {
   "cell_type": "code",
   "execution_count": 33,
   "id": "1d56c716",
   "metadata": {},
   "outputs": [
    {
     "name": "stdout",
     "output_type": "stream",
     "text": [
      "The total elements'sample_2d_array'= {6}\n"
     ]
    }
   ],
   "source": [
    "sample_2d_array=np.array([[1,2,3],[4,5,6]])\n",
    "print(f\"The total elements'sample_2d_array'=\",{sample_2d_array.size})"
   ]
  },
  {
   "cell_type": "code",
   "execution_count": 27,
   "id": "f34cea66",
   "metadata": {},
   "outputs": [
    {
     "name": "stdout",
     "output_type": "stream",
     "text": [
      "[2 3 4]\n",
      "int32\n"
     ]
    }
   ],
   "source": [
    "a=np.array([2,3,4])\n",
    "print(a)\n",
    "print(a.dtype)"
   ]
  },
  {
   "cell_type": "code",
   "execution_count": 28,
   "id": "292b42df",
   "metadata": {},
   "outputs": [
    {
     "name": "stdout",
     "output_type": "stream",
     "text": [
      "[2. 3. 4.]\n",
      "float64\n"
     ]
    }
   ],
   "source": [
    "a=a.astype('float64')\n",
    "print(a)\n",
    "print(a.dtype)"
   ]
  },
  {
   "cell_type": "code",
   "execution_count": null,
   "id": "727d052b",
   "metadata": {},
   "outputs": [],
   "source": [
    "\n"
   ]
  }
 ],
 "metadata": {
  "kernelspec": {
   "display_name": "Python 3 (ipykernel)",
   "language": "python",
   "name": "python3"
  },
  "language_info": {
   "codemirror_mode": {
    "name": "ipython",
    "version": 3
   },
   "file_extension": ".py",
   "mimetype": "text/x-python",
   "name": "python",
   "nbconvert_exporter": "python",
   "pygments_lexer": "ipython3",
   "version": "3.10.9"
  }
 },
 "nbformat": 4,
 "nbformat_minor": 5
}
